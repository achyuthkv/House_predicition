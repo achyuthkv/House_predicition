{
 "cells": [
  {
   "cell_type": "code",
   "execution_count": 2,
   "metadata": {},
   "outputs": [
    {
     "ename": "KeyError",
     "evalue": "'inline|'",
     "output_type": "error",
     "traceback": [
      "\u001b[1;31m---------------------------------------------------------------------------\u001b[0m",
      "\u001b[1;31mKeyError\u001b[0m                                  Traceback (most recent call last)",
      "\u001b[1;32m<ipython-input-2-305887e74f65>\u001b[0m in \u001b[0;36m<module>\u001b[1;34m()\u001b[0m\n\u001b[0;32m      4\u001b[0m \u001b[1;32mfrom\u001b[0m \u001b[0msklearn\u001b[0m\u001b[1;33m.\u001b[0m\u001b[0mdatasets\u001b[0m \u001b[1;32mimport\u001b[0m \u001b[0mload_boston\u001b[0m\u001b[1;33m\u001b[0m\u001b[0m\n\u001b[0;32m      5\u001b[0m \u001b[1;33m\u001b[0m\u001b[0m\n\u001b[1;32m----> 6\u001b[1;33m \u001b[0mget_ipython\u001b[0m\u001b[1;33m(\u001b[0m\u001b[1;33m)\u001b[0m\u001b[1;33m.\u001b[0m\u001b[0mmagic\u001b[0m\u001b[1;33m(\u001b[0m\u001b[1;34m'matplotlib inline|'\u001b[0m\u001b[1;33m)\u001b[0m\u001b[1;33m\u001b[0m\u001b[0m\n\u001b[0m",
      "\u001b[1;32mD:\\Applications\\Anaconda3\\lib\\site-packages\\IPython\\core\\interactiveshell.py\u001b[0m in \u001b[0;36mmagic\u001b[1;34m(self, arg_s)\u001b[0m\n\u001b[0;32m   2144\u001b[0m         \u001b[0mmagic_name\u001b[0m\u001b[1;33m,\u001b[0m \u001b[0m_\u001b[0m\u001b[1;33m,\u001b[0m \u001b[0mmagic_arg_s\u001b[0m \u001b[1;33m=\u001b[0m \u001b[0marg_s\u001b[0m\u001b[1;33m.\u001b[0m\u001b[0mpartition\u001b[0m\u001b[1;33m(\u001b[0m\u001b[1;34m' '\u001b[0m\u001b[1;33m)\u001b[0m\u001b[1;33m\u001b[0m\u001b[0m\n\u001b[0;32m   2145\u001b[0m         \u001b[0mmagic_name\u001b[0m \u001b[1;33m=\u001b[0m \u001b[0mmagic_name\u001b[0m\u001b[1;33m.\u001b[0m\u001b[0mlstrip\u001b[0m\u001b[1;33m(\u001b[0m\u001b[0mprefilter\u001b[0m\u001b[1;33m.\u001b[0m\u001b[0mESC_MAGIC\u001b[0m\u001b[1;33m)\u001b[0m\u001b[1;33m\u001b[0m\u001b[0m\n\u001b[1;32m-> 2146\u001b[1;33m         \u001b[1;32mreturn\u001b[0m \u001b[0mself\u001b[0m\u001b[1;33m.\u001b[0m\u001b[0mrun_line_magic\u001b[0m\u001b[1;33m(\u001b[0m\u001b[0mmagic_name\u001b[0m\u001b[1;33m,\u001b[0m \u001b[0mmagic_arg_s\u001b[0m\u001b[1;33m)\u001b[0m\u001b[1;33m\u001b[0m\u001b[0m\n\u001b[0m\u001b[0;32m   2147\u001b[0m \u001b[1;33m\u001b[0m\u001b[0m\n\u001b[0;32m   2148\u001b[0m     \u001b[1;31m#-------------------------------------------------------------------------\u001b[0m\u001b[1;33m\u001b[0m\u001b[1;33m\u001b[0m\u001b[0m\n",
      "\u001b[1;32mD:\\Applications\\Anaconda3\\lib\\site-packages\\IPython\\core\\interactiveshell.py\u001b[0m in \u001b[0;36mrun_line_magic\u001b[1;34m(self, magic_name, line)\u001b[0m\n\u001b[0;32m   2065\u001b[0m                 \u001b[0mkwargs\u001b[0m\u001b[1;33m[\u001b[0m\u001b[1;34m'local_ns'\u001b[0m\u001b[1;33m]\u001b[0m \u001b[1;33m=\u001b[0m \u001b[0msys\u001b[0m\u001b[1;33m.\u001b[0m\u001b[0m_getframe\u001b[0m\u001b[1;33m(\u001b[0m\u001b[0mstack_depth\u001b[0m\u001b[1;33m)\u001b[0m\u001b[1;33m.\u001b[0m\u001b[0mf_locals\u001b[0m\u001b[1;33m\u001b[0m\u001b[0m\n\u001b[0;32m   2066\u001b[0m             \u001b[1;32mwith\u001b[0m \u001b[0mself\u001b[0m\u001b[1;33m.\u001b[0m\u001b[0mbuiltin_trap\u001b[0m\u001b[1;33m:\u001b[0m\u001b[1;33m\u001b[0m\u001b[0m\n\u001b[1;32m-> 2067\u001b[1;33m                 \u001b[0mresult\u001b[0m \u001b[1;33m=\u001b[0m \u001b[0mfn\u001b[0m\u001b[1;33m(\u001b[0m\u001b[1;33m*\u001b[0m\u001b[0margs\u001b[0m\u001b[1;33m,\u001b[0m\u001b[1;33m**\u001b[0m\u001b[0mkwargs\u001b[0m\u001b[1;33m)\u001b[0m\u001b[1;33m\u001b[0m\u001b[0m\n\u001b[0m\u001b[0;32m   2068\u001b[0m             \u001b[1;32mreturn\u001b[0m \u001b[0mresult\u001b[0m\u001b[1;33m\u001b[0m\u001b[0m\n\u001b[0;32m   2069\u001b[0m \u001b[1;33m\u001b[0m\u001b[0m\n",
      "\u001b[1;32m<decorator-gen-108>\u001b[0m in \u001b[0;36mmatplotlib\u001b[1;34m(self, line)\u001b[0m\n",
      "\u001b[1;32mD:\\Applications\\Anaconda3\\lib\\site-packages\\IPython\\core\\magic.py\u001b[0m in \u001b[0;36m<lambda>\u001b[1;34m(f, *a, **k)\u001b[0m\n\u001b[0;32m    185\u001b[0m     \u001b[1;31m# but it's overkill for just that one bit of state.\u001b[0m\u001b[1;33m\u001b[0m\u001b[1;33m\u001b[0m\u001b[0m\n\u001b[0;32m    186\u001b[0m     \u001b[1;32mdef\u001b[0m \u001b[0mmagic_deco\u001b[0m\u001b[1;33m(\u001b[0m\u001b[0marg\u001b[0m\u001b[1;33m)\u001b[0m\u001b[1;33m:\u001b[0m\u001b[1;33m\u001b[0m\u001b[0m\n\u001b[1;32m--> 187\u001b[1;33m         \u001b[0mcall\u001b[0m \u001b[1;33m=\u001b[0m \u001b[1;32mlambda\u001b[0m \u001b[0mf\u001b[0m\u001b[1;33m,\u001b[0m \u001b[1;33m*\u001b[0m\u001b[0ma\u001b[0m\u001b[1;33m,\u001b[0m \u001b[1;33m**\u001b[0m\u001b[0mk\u001b[0m\u001b[1;33m:\u001b[0m \u001b[0mf\u001b[0m\u001b[1;33m(\u001b[0m\u001b[1;33m*\u001b[0m\u001b[0ma\u001b[0m\u001b[1;33m,\u001b[0m \u001b[1;33m**\u001b[0m\u001b[0mk\u001b[0m\u001b[1;33m)\u001b[0m\u001b[1;33m\u001b[0m\u001b[0m\n\u001b[0m\u001b[0;32m    188\u001b[0m \u001b[1;33m\u001b[0m\u001b[0m\n\u001b[0;32m    189\u001b[0m         \u001b[1;32mif\u001b[0m \u001b[0mcallable\u001b[0m\u001b[1;33m(\u001b[0m\u001b[0marg\u001b[0m\u001b[1;33m)\u001b[0m\u001b[1;33m:\u001b[0m\u001b[1;33m\u001b[0m\u001b[0m\n",
      "\u001b[1;32mD:\\Applications\\Anaconda3\\lib\\site-packages\\IPython\\core\\magics\\pylab.py\u001b[0m in \u001b[0;36mmatplotlib\u001b[1;34m(self, line)\u001b[0m\n\u001b[0;32m     97\u001b[0m             \u001b[0mprint\u001b[0m\u001b[1;33m(\u001b[0m\u001b[1;34m\"Available matplotlib backends: %s\"\u001b[0m \u001b[1;33m%\u001b[0m \u001b[0mbackends_list\u001b[0m\u001b[1;33m)\u001b[0m\u001b[1;33m\u001b[0m\u001b[0m\n\u001b[0;32m     98\u001b[0m         \u001b[1;32melse\u001b[0m\u001b[1;33m:\u001b[0m\u001b[1;33m\u001b[0m\u001b[0m\n\u001b[1;32m---> 99\u001b[1;33m             \u001b[0mgui\u001b[0m\u001b[1;33m,\u001b[0m \u001b[0mbackend\u001b[0m \u001b[1;33m=\u001b[0m \u001b[0mself\u001b[0m\u001b[1;33m.\u001b[0m\u001b[0mshell\u001b[0m\u001b[1;33m.\u001b[0m\u001b[0menable_matplotlib\u001b[0m\u001b[1;33m(\u001b[0m\u001b[0margs\u001b[0m\u001b[1;33m.\u001b[0m\u001b[0mgui\u001b[0m\u001b[1;33m)\u001b[0m\u001b[1;33m\u001b[0m\u001b[0m\n\u001b[0m\u001b[0;32m    100\u001b[0m             \u001b[0mself\u001b[0m\u001b[1;33m.\u001b[0m\u001b[0m_show_matplotlib_backend\u001b[0m\u001b[1;33m(\u001b[0m\u001b[0margs\u001b[0m\u001b[1;33m.\u001b[0m\u001b[0mgui\u001b[0m\u001b[1;33m,\u001b[0m \u001b[0mbackend\u001b[0m\u001b[1;33m)\u001b[0m\u001b[1;33m\u001b[0m\u001b[0m\n\u001b[0;32m    101\u001b[0m \u001b[1;33m\u001b[0m\u001b[0m\n",
      "\u001b[1;32mD:\\Applications\\Anaconda3\\lib\\site-packages\\IPython\\core\\interactiveshell.py\u001b[0m in \u001b[0;36menable_matplotlib\u001b[1;34m(self, gui)\u001b[0m\n\u001b[0;32m   2916\u001b[0m         \"\"\"\n\u001b[0;32m   2917\u001b[0m         \u001b[1;32mfrom\u001b[0m \u001b[0mIPython\u001b[0m\u001b[1;33m.\u001b[0m\u001b[0mcore\u001b[0m \u001b[1;32mimport\u001b[0m \u001b[0mpylabtools\u001b[0m \u001b[1;32mas\u001b[0m \u001b[0mpt\u001b[0m\u001b[1;33m\u001b[0m\u001b[0m\n\u001b[1;32m-> 2918\u001b[1;33m         \u001b[0mgui\u001b[0m\u001b[1;33m,\u001b[0m \u001b[0mbackend\u001b[0m \u001b[1;33m=\u001b[0m \u001b[0mpt\u001b[0m\u001b[1;33m.\u001b[0m\u001b[0mfind_gui_and_backend\u001b[0m\u001b[1;33m(\u001b[0m\u001b[0mgui\u001b[0m\u001b[1;33m,\u001b[0m \u001b[0mself\u001b[0m\u001b[1;33m.\u001b[0m\u001b[0mpylab_gui_select\u001b[0m\u001b[1;33m)\u001b[0m\u001b[1;33m\u001b[0m\u001b[0m\n\u001b[0m\u001b[0;32m   2919\u001b[0m \u001b[1;33m\u001b[0m\u001b[0m\n\u001b[0;32m   2920\u001b[0m         \u001b[1;32mif\u001b[0m \u001b[0mgui\u001b[0m \u001b[1;33m!=\u001b[0m \u001b[1;34m'inline'\u001b[0m\u001b[1;33m:\u001b[0m\u001b[1;33m\u001b[0m\u001b[0m\n",
      "\u001b[1;32mD:\\Applications\\Anaconda3\\lib\\site-packages\\IPython\\core\\pylabtools.py\u001b[0m in \u001b[0;36mfind_gui_and_backend\u001b[1;34m(gui, gui_select)\u001b[0m\n\u001b[0;32m    271\u001b[0m     \u001b[1;32mif\u001b[0m \u001b[0mgui\u001b[0m \u001b[1;32mand\u001b[0m \u001b[0mgui\u001b[0m \u001b[1;33m!=\u001b[0m \u001b[1;34m'auto'\u001b[0m\u001b[1;33m:\u001b[0m\u001b[1;33m\u001b[0m\u001b[0m\n\u001b[0;32m    272\u001b[0m         \u001b[1;31m# select backend based on requested gui\u001b[0m\u001b[1;33m\u001b[0m\u001b[1;33m\u001b[0m\u001b[0m\n\u001b[1;32m--> 273\u001b[1;33m         \u001b[0mbackend\u001b[0m \u001b[1;33m=\u001b[0m \u001b[0mbackends\u001b[0m\u001b[1;33m[\u001b[0m\u001b[0mgui\u001b[0m\u001b[1;33m]\u001b[0m\u001b[1;33m\u001b[0m\u001b[0m\n\u001b[0m\u001b[0;32m    274\u001b[0m         \u001b[1;32mif\u001b[0m \u001b[0mgui\u001b[0m \u001b[1;33m==\u001b[0m \u001b[1;34m'agg'\u001b[0m\u001b[1;33m:\u001b[0m\u001b[1;33m\u001b[0m\u001b[0m\n\u001b[0;32m    275\u001b[0m             \u001b[0mgui\u001b[0m \u001b[1;33m=\u001b[0m \u001b[1;32mNone\u001b[0m\u001b[1;33m\u001b[0m\u001b[0m\n",
      "\u001b[1;31mKeyError\u001b[0m: 'inline|'"
     ]
    }
   ],
   "source": [
    "import numpy as np\n",
    "import matplotlib.pyplot as plt\n",
    "import pandas as pd\n",
    "from sklearn.datasets import load_boston\n",
    "\n",
    "%matplotlib inline"
   ]
  },
  {
   "cell_type": "code",
   "execution_count": 2,
   "metadata": {
    "collapsed": true
   },
   "outputs": [],
   "source": [
    "boston = load_boston()"
   ]
  },
  {
   "cell_type": "code",
   "execution_count": 3,
   "metadata": {
    "collapsed": true
   },
   "outputs": [],
   "source": [
    "features = pd.DataFrame(boston.data, columns=boston.feature_names)\n",
    "target = pd.DataFrame(boston.target, columns=['TARGET'])"
   ]
  },
  {
   "cell_type": "code",
   "execution_count": 4,
   "metadata": {
    "collapsed": true
   },
   "outputs": [],
   "source": [
    "data = pd.concat([features, target], axis=1)"
   ]
  },
  {
   "cell_type": "code",
   "execution_count": 5,
   "metadata": {},
   "outputs": [
    {
     "name": "stdout",
     "output_type": "stream",
     "text": [
      "Boston House Prices dataset\n",
      "===========================\n",
      "\n",
      "Notes\n",
      "------\n",
      "Data Set Characteristics:  \n",
      "\n",
      "    :Number of Instances: 506 \n",
      "\n",
      "    :Number of Attributes: 13 numeric/categorical predictive\n",
      "    \n",
      "    :Median Value (attribute 14) is usually the target\n",
      "\n",
      "    :Attribute Information (in order):\n",
      "        - CRIM     per capita crime rate by town\n",
      "        - ZN       proportion of residential land zoned for lots over 25,000 sq.ft.\n",
      "        - INDUS    proportion of non-retail business acres per town\n",
      "        - CHAS     Charles River dummy variable (= 1 if tract bounds river; 0 otherwise)\n",
      "        - NOX      nitric oxides concentration (parts per 10 million)\n",
      "        - RM       average number of rooms per dwelling\n",
      "        - AGE      proportion of owner-occupied units built prior to 1940\n",
      "        - DIS      weighted distances to five Boston employment centres\n",
      "        - RAD      index of accessibility to radial highways\n",
      "        - TAX      full-value property-tax rate per $10,000\n",
      "        - PTRATIO  pupil-teacher ratio by town\n",
      "        - B        1000(Bk - 0.63)^2 where Bk is the proportion of blacks by town\n",
      "        - LSTAT    % lower status of the population\n",
      "        - MEDV     Median value of owner-occupied homes in $1000's\n",
      "\n",
      "    :Missing Attribute Values: None\n",
      "\n",
      "    :Creator: Harrison, D. and Rubinfeld, D.L.\n",
      "\n",
      "This is a copy of UCI ML housing dataset.\n",
      "http://archive.ics.uci.edu/ml/datasets/Housing\n",
      "\n",
      "\n",
      "This dataset was taken from the StatLib library which is maintained at Carnegie Mellon University.\n",
      "\n",
      "The Boston house-price data of Harrison, D. and Rubinfeld, D.L. 'Hedonic\n",
      "prices and the demand for clean air', J. Environ. Economics & Management,\n",
      "vol.5, 81-102, 1978.   Used in Belsley, Kuh & Welsch, 'Regression diagnostics\n",
      "...', Wiley, 1980.   N.B. Various transformations are used in the table on\n",
      "pages 244-261 of the latter.\n",
      "\n",
      "The Boston house-price data has been used in many machine learning papers that address regression\n",
      "problems.   \n",
      "     \n",
      "**References**\n",
      "\n",
      "   - Belsley, Kuh & Welsch, 'Regression diagnostics: Identifying Influential Data and Sources of Collinearity', Wiley, 1980. 244-261.\n",
      "   - Quinlan,R. (1993). Combining Instance-Based and Model-Based Learning. In Proceedings on the Tenth International Conference of Machine Learning, 236-243, University of Massachusetts, Amherst. Morgan Kaufmann.\n",
      "   - many more! (see http://archive.ics.uci.edu/ml/datasets/Housing)\n",
      "\n"
     ]
    }
   ],
   "source": [
    "print(boston.DESCR)"
   ]
  },
  {
   "cell_type": "code",
   "execution_count": 6,
   "metadata": {},
   "outputs": [
    {
     "data": {
      "text/html": [
       "<div>\n",
       "<style>\n",
       "    .dataframe thead tr:only-child th {\n",
       "        text-align: right;\n",
       "    }\n",
       "\n",
       "    .dataframe thead th {\n",
       "        text-align: left;\n",
       "    }\n",
       "\n",
       "    .dataframe tbody tr th {\n",
       "        vertical-align: top;\n",
       "    }\n",
       "</style>\n",
       "<table border=\"1\" class=\"dataframe\">\n",
       "  <thead>\n",
       "    <tr style=\"text-align: right;\">\n",
       "      <th></th>\n",
       "      <th>CRIM</th>\n",
       "      <th>ZN</th>\n",
       "      <th>INDUS</th>\n",
       "      <th>CHAS</th>\n",
       "      <th>NOX</th>\n",
       "      <th>RM</th>\n",
       "      <th>AGE</th>\n",
       "      <th>DIS</th>\n",
       "      <th>RAD</th>\n",
       "      <th>TAX</th>\n",
       "      <th>PTRATIO</th>\n",
       "      <th>B</th>\n",
       "      <th>LSTAT</th>\n",
       "      <th>TARGET</th>\n",
       "    </tr>\n",
       "  </thead>\n",
       "  <tbody>\n",
       "    <tr>\n",
       "      <th>0</th>\n",
       "      <td>0.00632</td>\n",
       "      <td>18.0</td>\n",
       "      <td>2.31</td>\n",
       "      <td>0.0</td>\n",
       "      <td>0.538</td>\n",
       "      <td>6.575</td>\n",
       "      <td>65.2</td>\n",
       "      <td>4.0900</td>\n",
       "      <td>1.0</td>\n",
       "      <td>296.0</td>\n",
       "      <td>15.3</td>\n",
       "      <td>396.90</td>\n",
       "      <td>4.98</td>\n",
       "      <td>24.0</td>\n",
       "    </tr>\n",
       "    <tr>\n",
       "      <th>1</th>\n",
       "      <td>0.02731</td>\n",
       "      <td>0.0</td>\n",
       "      <td>7.07</td>\n",
       "      <td>0.0</td>\n",
       "      <td>0.469</td>\n",
       "      <td>6.421</td>\n",
       "      <td>78.9</td>\n",
       "      <td>4.9671</td>\n",
       "      <td>2.0</td>\n",
       "      <td>242.0</td>\n",
       "      <td>17.8</td>\n",
       "      <td>396.90</td>\n",
       "      <td>9.14</td>\n",
       "      <td>21.6</td>\n",
       "    </tr>\n",
       "    <tr>\n",
       "      <th>2</th>\n",
       "      <td>0.02729</td>\n",
       "      <td>0.0</td>\n",
       "      <td>7.07</td>\n",
       "      <td>0.0</td>\n",
       "      <td>0.469</td>\n",
       "      <td>7.185</td>\n",
       "      <td>61.1</td>\n",
       "      <td>4.9671</td>\n",
       "      <td>2.0</td>\n",
       "      <td>242.0</td>\n",
       "      <td>17.8</td>\n",
       "      <td>392.83</td>\n",
       "      <td>4.03</td>\n",
       "      <td>34.7</td>\n",
       "    </tr>\n",
       "    <tr>\n",
       "      <th>3</th>\n",
       "      <td>0.03237</td>\n",
       "      <td>0.0</td>\n",
       "      <td>2.18</td>\n",
       "      <td>0.0</td>\n",
       "      <td>0.458</td>\n",
       "      <td>6.998</td>\n",
       "      <td>45.8</td>\n",
       "      <td>6.0622</td>\n",
       "      <td>3.0</td>\n",
       "      <td>222.0</td>\n",
       "      <td>18.7</td>\n",
       "      <td>394.63</td>\n",
       "      <td>2.94</td>\n",
       "      <td>33.4</td>\n",
       "    </tr>\n",
       "    <tr>\n",
       "      <th>4</th>\n",
       "      <td>0.06905</td>\n",
       "      <td>0.0</td>\n",
       "      <td>2.18</td>\n",
       "      <td>0.0</td>\n",
       "      <td>0.458</td>\n",
       "      <td>7.147</td>\n",
       "      <td>54.2</td>\n",
       "      <td>6.0622</td>\n",
       "      <td>3.0</td>\n",
       "      <td>222.0</td>\n",
       "      <td>18.7</td>\n",
       "      <td>396.90</td>\n",
       "      <td>5.33</td>\n",
       "      <td>36.2</td>\n",
       "    </tr>\n",
       "    <tr>\n",
       "      <th>5</th>\n",
       "      <td>0.02985</td>\n",
       "      <td>0.0</td>\n",
       "      <td>2.18</td>\n",
       "      <td>0.0</td>\n",
       "      <td>0.458</td>\n",
       "      <td>6.430</td>\n",
       "      <td>58.7</td>\n",
       "      <td>6.0622</td>\n",
       "      <td>3.0</td>\n",
       "      <td>222.0</td>\n",
       "      <td>18.7</td>\n",
       "      <td>394.12</td>\n",
       "      <td>5.21</td>\n",
       "      <td>28.7</td>\n",
       "    </tr>\n",
       "    <tr>\n",
       "      <th>6</th>\n",
       "      <td>0.08829</td>\n",
       "      <td>12.5</td>\n",
       "      <td>7.87</td>\n",
       "      <td>0.0</td>\n",
       "      <td>0.524</td>\n",
       "      <td>6.012</td>\n",
       "      <td>66.6</td>\n",
       "      <td>5.5605</td>\n",
       "      <td>5.0</td>\n",
       "      <td>311.0</td>\n",
       "      <td>15.2</td>\n",
       "      <td>395.60</td>\n",
       "      <td>12.43</td>\n",
       "      <td>22.9</td>\n",
       "    </tr>\n",
       "    <tr>\n",
       "      <th>7</th>\n",
       "      <td>0.14455</td>\n",
       "      <td>12.5</td>\n",
       "      <td>7.87</td>\n",
       "      <td>0.0</td>\n",
       "      <td>0.524</td>\n",
       "      <td>6.172</td>\n",
       "      <td>96.1</td>\n",
       "      <td>5.9505</td>\n",
       "      <td>5.0</td>\n",
       "      <td>311.0</td>\n",
       "      <td>15.2</td>\n",
       "      <td>396.90</td>\n",
       "      <td>19.15</td>\n",
       "      <td>27.1</td>\n",
       "    </tr>\n",
       "    <tr>\n",
       "      <th>8</th>\n",
       "      <td>0.21124</td>\n",
       "      <td>12.5</td>\n",
       "      <td>7.87</td>\n",
       "      <td>0.0</td>\n",
       "      <td>0.524</td>\n",
       "      <td>5.631</td>\n",
       "      <td>100.0</td>\n",
       "      <td>6.0821</td>\n",
       "      <td>5.0</td>\n",
       "      <td>311.0</td>\n",
       "      <td>15.2</td>\n",
       "      <td>386.63</td>\n",
       "      <td>29.93</td>\n",
       "      <td>16.5</td>\n",
       "    </tr>\n",
       "    <tr>\n",
       "      <th>9</th>\n",
       "      <td>0.17004</td>\n",
       "      <td>12.5</td>\n",
       "      <td>7.87</td>\n",
       "      <td>0.0</td>\n",
       "      <td>0.524</td>\n",
       "      <td>6.004</td>\n",
       "      <td>85.9</td>\n",
       "      <td>6.5921</td>\n",
       "      <td>5.0</td>\n",
       "      <td>311.0</td>\n",
       "      <td>15.2</td>\n",
       "      <td>386.71</td>\n",
       "      <td>17.10</td>\n",
       "      <td>18.9</td>\n",
       "    </tr>\n",
       "  </tbody>\n",
       "</table>\n",
       "</div>"
      ],
      "text/plain": [
       "      CRIM    ZN  INDUS  CHAS    NOX     RM    AGE     DIS  RAD    TAX  \\\n",
       "0  0.00632  18.0   2.31   0.0  0.538  6.575   65.2  4.0900  1.0  296.0   \n",
       "1  0.02731   0.0   7.07   0.0  0.469  6.421   78.9  4.9671  2.0  242.0   \n",
       "2  0.02729   0.0   7.07   0.0  0.469  7.185   61.1  4.9671  2.0  242.0   \n",
       "3  0.03237   0.0   2.18   0.0  0.458  6.998   45.8  6.0622  3.0  222.0   \n",
       "4  0.06905   0.0   2.18   0.0  0.458  7.147   54.2  6.0622  3.0  222.0   \n",
       "5  0.02985   0.0   2.18   0.0  0.458  6.430   58.7  6.0622  3.0  222.0   \n",
       "6  0.08829  12.5   7.87   0.0  0.524  6.012   66.6  5.5605  5.0  311.0   \n",
       "7  0.14455  12.5   7.87   0.0  0.524  6.172   96.1  5.9505  5.0  311.0   \n",
       "8  0.21124  12.5   7.87   0.0  0.524  5.631  100.0  6.0821  5.0  311.0   \n",
       "9  0.17004  12.5   7.87   0.0  0.524  6.004   85.9  6.5921  5.0  311.0   \n",
       "\n",
       "   PTRATIO       B  LSTAT  TARGET  \n",
       "0     15.3  396.90   4.98    24.0  \n",
       "1     17.8  396.90   9.14    21.6  \n",
       "2     17.8  392.83   4.03    34.7  \n",
       "3     18.7  394.63   2.94    33.4  \n",
       "4     18.7  396.90   5.33    36.2  \n",
       "5     18.7  394.12   5.21    28.7  \n",
       "6     15.2  395.60  12.43    22.9  \n",
       "7     15.2  396.90  19.15    27.1  \n",
       "8     15.2  386.63  29.93    16.5  \n",
       "9     15.2  386.71  17.10    18.9  "
      ]
     },
     "execution_count": 6,
     "metadata": {},
     "output_type": "execute_result"
    }
   ],
   "source": [
    "data.head(10)"
   ]
  },
  {
   "cell_type": "code",
   "execution_count": 35,
   "metadata": {
    "collapsed": true
   },
   "outputs": [],
   "source": [
    "X1 = data['RM']\n",
    "X2 = data['LSTAT']\n",
    "Y = data['TARGET']"
   ]
  },
  {
   "cell_type": "code",
   "execution_count": 36,
   "metadata": {
    "collapsed": true
   },
   "outputs": [],
   "source": [
<<<<<<< HEAD
    "X1 = np.array(X/X.mean())\n",
=======
    "X1 = np.array(X1/X1.mean())\n",
>>>>>>> parent of 70d9888... Implemented infinite looping
    "X2 = np.array(X2/X2.mean())\n",
    "Y = np.array(Y/Y.mean())"
   ]
  },
  {
   "cell_type": "code",
   "execution_count": 37,
   "metadata": {},
   "outputs": [
    {
     "name": "stdout",
     "output_type": "stream",
     "text": [
      "404\n"
     ]
    }
   ],
   "source": [
    "if len(X1) == len(X2):\n",
<<<<<<< HEAD
    "    n = int(0.8 * len(X))\n",
=======
    "    n = int(0.8 * len(X1))\n",
>>>>>>> parent of 70d9888... Implemented infinite looping
    "print(n)"
   ]
  },
  {
   "cell_type": "code",
   "execution_count": 39,
   "metadata": {
    "collapsed": true
   },
   "outputs": [],
   "source": [
<<<<<<< HEAD
    "x1_train = X[:n]\n",
=======
    "x1_train = X1[:n]\n",
>>>>>>> parent of 70d9888... Implemented infinite looping
    "x2_train = X2[:n]\n",
    "y_train = Y[:n]"
   ]
  },
  {
   "cell_type": "code",
   "execution_count": 40,
   "metadata": {
    "collapsed": true
   },
   "outputs": [],
   "source": [
<<<<<<< HEAD
    "x1_test = X[n:]\n",
=======
    "x1_test = X1[n:]\n",
>>>>>>> parent of 70d9888... Implemented infinite looping
    "x2_test = X2[n:]\n",
    "y_test = Y[n:]"
   ]
  },
  {
   "cell_type": "code",
<<<<<<< HEAD
   "execution_count": 41,
=======
   "execution_count": 1,
>>>>>>> parent of 70d9888... Implemented infinite looping
   "metadata": {
    "collapsed": true
   },
   "outputs": [],
   "source": [
    "def hypothesis(a,b,c,x1,x2):\n",
    "    return a * x1 + b * np.power(x2, 2) + c"
   ]
  },
  {
   "cell_type": "code",
<<<<<<< HEAD
   "execution_count": 47,
=======
   "execution_count": 14,
>>>>>>> parent of 70d9888... Implemented infinite looping
   "metadata": {
    "collapsed": true
   },
   "outputs": [],
   "source": [
    "def error(a,b,c,x1,x2,y):\n",
    "    e = 0\n",
    "    m = len(x1)\n",
    "    for i in range(m):\n",
<<<<<<< HEAD
    "        e += np.power((hypothesis(a,b,c,x1[i], x2[i]) - y[i]), 2)\n",
=======
    "        e += np.power((hypothesis(a,b,c,x1[i],x2[i]) - y[i]), 2)\n",
>>>>>>> parent of 70d9888... Implemented infinite looping
    "    \n",
    "    return (1/(2*m)) * e"
   ]
  },
  {
   "cell_type": "code",
<<<<<<< HEAD
   "execution_count": 52,
=======
   "execution_count": 15,
>>>>>>> parent of 70d9888... Implemented infinite looping
   "metadata": {
    "collapsed": true
   },
   "outputs": [],
   "source": [
    "def step_gradient(a,b,c,x1,x2,y,learning_rate):\n",
    "    grad_a = 0\n",
    "    grad_b = 0\n",
    "    grad_c = 0\n",
    "    m = len(x1)\n",
    "    for i in range(m):\n",
<<<<<<< HEAD
    "        grad_a += 1/m * (hypothesis(a,b,c,x1[i],x2[i]) - y[i]) * x1[i]\n",
    "        grad_b += 1/m * (hypothesis(a,b,c,x1[i],x2[i]) - y[i]) * x2[i]\n",
    "        grad_c += 1/m * (hypothesis(a,b,c,x1[i],x2[i]) - y[i])\n",
=======
    "        grad_a += 2/m * (hypothesis(a,b,c,x1[i],x2[i]) - y[i]) * x1[i]\n",
    "        grad_b += 2/m * (hypothesis(a,b,c,x1[i],x2[i]) - y[i]) * x2[i]\n",
    "        grad_c += 2/m * (hypothesis(a,b,c,x1[i],x2[i]) - y[i])\n",
>>>>>>> parent of 70d9888... Implemented infinite looping
    "        \n",
    "    a = a - (grad_a * learning_rate)\n",
    "    b = b - (grad_b * learning_rate)\n",
    "    c = c - (grad_c * learning_rate)\n",
    "    \n",
    "    return a, b, c"
   ]
  },
  {
   "cell_type": "code",
<<<<<<< HEAD
   "execution_count": 53,
   "metadata": {
    "collapsed": true
   },
   "outputs": [],
   "source": [
    "def descend(initial_a, initial_b, initial_c, x1, x2, y, learning_rate, iterations):\n",
    "    a = initial_a\n",
    "    b = initial_b\n",
    "    c = initial_c\n",
    "    for i in range(iterations):\n",
    "        e = error(a, b, c, x1, x2, y)\n",
    "        if i % 1000 == 0:\n",
    "            print(f\"Error: {e}, a: {a}, b: {b}, c: {c}\")\n",
    "        \n",
    "        a, b, c = step_gradient(a, b, c, x1, x2, y, learning_rate)\n",
    "\n",
    "    return a, b, c"
   ]
  },
  {
   "cell_type": "code",
   "execution_count": 54,
=======
   "execution_count": 18,
>>>>>>> parent of 70d9888... Implemented infinite looping
   "metadata": {
    "collapsed": true
   },
   "outputs": [],
   "source": [
<<<<<<< HEAD
    "# def descend(initial_a, initial_b, initial_c, x, y, learning_rate):\n",
    "#     a = initial_a\n",
    "#     b = initial_b\n",
    "#     c = initial_c\n",
    "#     i = 0\n",
    "#     while True:\n",
    "#         e = error(a, b, c, x ,y)\n",
    "#         if i % 1000 == 0:\n",
    "#             print(f\"Error: {e}, a: {a}, b: {b}\")\n",
    "        \n",
    "#         a, b, c = step_gradient(a, b, c, x, y, learning_rate)\n",
    "#         e1 = error(a, b, c, x, y)\n",
    "#         if (e1 > e):\n",
    "#             break\n",
    "#         i +=1\n",
    "#     return a, b, i"
=======
    "def descend(initial_a, initial_b, initial_c, x1, x2, y, learning_rate, iterations):\n",
    "    a = initial_a\n",
    "    b = initial_b\n",
    "    c = initial_c\n",
    "    for i in range(iterations):\n",
    "        e = error(a, b, c, x1, x2, y)\n",
    "        if i % 1000 == 0:\n",
    "            print(f\"Error: {e}, a: {a}, b: {b}, c: {c}\")\n",
    "        \n",
    "        a, b, c = step_gradient(a, b, c, x1, x2, y, learning_rate)\n",
    "\n",
    "    return a, b, c"
>>>>>>> parent of 70d9888... Implemented infinite looping
   ]
  },
  {
   "cell_type": "code",
<<<<<<< HEAD
   "execution_count": 55,
   "metadata": {
    "scrolled": true
   },
=======
   "execution_count": 20,
   "metadata": {},
>>>>>>> parent of 70d9888... Implemented infinite looping
   "outputs": [
    {
     "name": "stdout",
     "output_type": "stream",
     "text": [
<<<<<<< HEAD
      "Error: 1.8916644915740468, a: 0, b: 1, c: 1\n",
      "Error: 0.035926383471496806, a: 1.6390182759893839, b: -0.12837941910937795, c: -0.4371104856315634\n",
      "Error: 0.034954959893351394, a: 1.8476496640554627, b: -0.11541204138822421, c: -0.6624117389726646\n",
      "Error: 0.03484610678013466, a: 1.8788217006986545, b: -0.11347455931883456, c: -0.6960744538211201\n",
      "Error: 0.03483065293615522, a: 1.883479177588837, b: -0.11318507621362014, c: -0.7011040679673529\n",
      "Error: 0.03482836203120877, a: 1.8841750606083167, b: -0.11314182395878464, c: -0.7018555527651145\n",
      "Error: 0.03482802014620846, a: 1.8842790338943287, b: -0.11313536155212028, c: -0.7019678336250063\n",
      "Error: 0.034827969073493614, a: 1.8842945687527777, b: -0.11313439599090146, c: -0.7019846097348308\n",
      "Error: 0.03482796144281744, a: 1.884296889847323, b: -0.11313425172445148, c: -0.7019871162872485\n",
      "Error: 0.03482796030270721, a: 1.884297236646742, b: -0.11313423016931023, c: -0.7019874907963027\n"
=======
      "Error: 0.7258561959456158, a: 0, b: 1, c: 1\n",
      "Error: 0.036280471622745204, a: 0.4729348439449878, b: -0.47998849417206724, c: 1.0310694462834369\n",
      "Error: 0.0354320551505439, a: 0.5634684247529373, b: -0.47809957681711945, c: 0.9388016899730139\n",
      "Error: 0.034710503137370514, a: 0.6419862881756228, b: -0.466193369683707, c: 0.8486955524114163\n",
      "Error: 0.03408088311142333, a: 0.715275652680546, b: -0.45497710401402064, c: 0.764488525178133\n",
      "Error: 0.03353148072227618, a: 0.7837367157011588, b: -0.44449880764635674, c: 0.6858281139187172\n",
      "Error: 0.03305207572745604, a: 0.8476880500726367, b: -0.4347107381179386, c: 0.6123492831854095\n",
      "Error: 0.032633750009187494, a: 0.9074267291993168, b: -0.42556743632638905, c: 0.5437107107438863\n",
      "Error: 0.03226872167519899, a: 0.9632302526371899, b: -0.4170264296732556, c: 0.4795935551250693\n",
      "Error: 0.03195020029629377, a: 1.0153578402174428, b: -0.40904804327565125, c: 0.41969997782008117\n"
>>>>>>> parent of 70d9888... Implemented infinite looping
     ]
    }
   ],
   "source": [
    "a = 0\n",
    "b = 1\n",
    "c = 1\n",
<<<<<<< HEAD
    "learning_rate = 0.5\n",
    "iterations = 10000\n",
    "\n",
    "final_a, final_b, final_c = descend(a, b, c, x1_train, x2_train, y_train, learning_rate, iterations)"
   ]
  },
  {
   "cell_type": "code",
   "execution_count": 56,
   "metadata": {},
   "outputs": [
    {
     "name": "stdout",
     "output_type": "stream",
     "text": [
      "1.8916644915740468\n",
      "0.03482796013236113\n",
      "0.04506626449337629\n"
     ]
    }
   ],
   "source": [
    "print(error(a, b, c, x1_train, x2_train, y_train))\n",
    "print(error(final_a, final_b, final_c, x1_train, x2_train, y_train))\n",
    "print(error(final_a, final_b, final_c, x1_test, x2_test, y_test))"
=======
    "learning_rate = 0.01\n",
    "iterations = 10000\n",
    "\n",
    "final_a, final_b, final_c = descend(a, b, c, x1_train, x2_train, y_train, learning_rate, iterations)\n"
>>>>>>> parent of 70d9888... Implemented infinite looping
   ]
  },
  {
   "cell_type": "code",
<<<<<<< HEAD
   "execution_count": 57,
   "metadata": {},
   "outputs": [
    {
     "data": {
      "text/plain": [
       "[<matplotlib.lines.Line2D at 0x2e8abb822e8>,\n",
       " <matplotlib.lines.Line2D at 0x2e8abb82860>,\n",
       " <matplotlib.lines.Line2D at 0x2e8abb829e8>,\n",
       " <matplotlib.lines.Line2D at 0x2e8abb88160>]"
      ]
     },
     "execution_count": 57,
     "metadata": {},
     "output_type": "execute_result"
    },
    {
     "data": {
      "image/png": "iVBORw0KGgoAAAANSUhEUgAAAXQAAAD8CAYAAABn919SAAAABHNCSVQICAgIfAhkiAAAAAlwSFlz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\nLgAAAABJRU5ErkJggg==\n",
      "text/plain": [
       "<matplotlib.figure.Figure at 0x2e8abb430b8>"
      ]
     },
     "metadata": {},
     "output_type": "display_data"
    }
   ],
   "source": [
    "plt.plot(x1_train, x2_train, y_train, 'r.', x_train, hypothesis(a, b, c, x1_train, x2_train), 'g.', x_train, hypothesis(final_a, final_b, final_c, x1_train, x2_train), 'b.', )"
   ]
  },
  {
   "cell_type": "code",
   "execution_count": 58,
   "metadata": {},
   "outputs": [
    {
     "data": {
      "text/plain": [
       "[<matplotlib.lines.Line2D at 0x2e8abbcd160>,\n",
       " <matplotlib.lines.Line2D at 0x2e8abbcd6d8>,\n",
       " <matplotlib.lines.Line2D at 0x2e8abbcd860>]"
      ]
     },
     "execution_count": 58,
     "metadata": {},
     "output_type": "execute_result"
    },
    {
     "data": {
      "image/png": "iVBORw0KGgoAAAANSUhEUgAAAXcAAAD8CAYAAACMwORRAAAABHNCSVQICAgIfAhkiAAAAAlwSFlz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\nRUQq6P8DCy3jcnFBCvQAAAAASUVORK5CYII=\n",
      "text/plain": [
       "<matplotlib.figure.Figure at 0x2e8abb93e10>"
      ]
     },
     "metadata": {},
     "output_type": "display_data"
    }
   ],
   "source": [
    "plt.plot(x1_test, x2_test, y_test, 'r.', x_test, hypothesis(final_a, final_b, final_c, x1_test, x2_test), 'g.')"
=======
   "execution_count": 22,
   "metadata": {},
   "outputs": [
    {
     "name": "stdout",
     "output_type": "stream",
     "text": [
      "0.7258561959456158\n",
      "0.03167226058758378\n"
     ]
    }
   ],
   "source": [
    "print(error(a, b, c, x1_train, x2_train, y_train))\n",
    "print(error(final_a, final_b, final_c, x1_train, x2_train, y_train))"
>>>>>>> parent of 70d9888... Implemented infinite looping
   ]
  }
 ],
 "metadata": {
  "kernelspec": {
   "display_name": "Python 3",
   "language": "python",
   "name": "python3"
  },
  "language_info": {
   "codemirror_mode": {
    "name": "ipython",
    "version": 3
   },
   "file_extension": ".py",
   "mimetype": "text/x-python",
   "name": "python",
   "nbconvert_exporter": "python",
   "pygments_lexer": "ipython3",
   "version": "3.6.3"
  }
 },
 "nbformat": 4,
 "nbformat_minor": 2
}
